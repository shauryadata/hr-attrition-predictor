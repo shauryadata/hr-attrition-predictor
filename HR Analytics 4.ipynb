{
 "cells": [
  {
   "cell_type": "code",
   "execution_count": 14,
   "id": "aa53ef09-eb92-4f7b-a8a2-899cffb448d4",
   "metadata": {},
   "outputs": [
    {
     "name": "stdout",
     "output_type": "stream",
     "text": [
      "✅ Model, scaler, and feature names saved inside models/\n"
     ]
    }
   ],
   "source": [
    "import os\n",
    "import pandas as pd\n",
    "import numpy as np\n",
    "from sklearn.preprocessing import StandardScaler\n",
    "from sklearn.model_selection import train_test_split\n",
    "from imblearn.over_sampling import SMOTE\n",
    "import joblib\n",
    "import xgboost as xgb\n",
    "\n",
    "# Load data\n",
    "df = pd.read_csv(\"/Users/shauryadityasingh/Downloads/HR Analytics/WA_Fn-UseC_-HR-Employee-Attrition.csv\")\n",
    "\n",
    "# Preprocess\n",
    "df['Attrition'] = df['Attrition'].map({'Yes': 1, 'No': 0})\n",
    "df.drop(['EmployeeCount', 'EmployeeNumber', 'Over18', 'StandardHours'], axis=1, inplace=True)\n",
    "df = pd.get_dummies(df, drop_first=True)\n",
    "\n",
    "X = df.drop('Attrition', axis=1)\n",
    "y = df['Attrition']\n",
    "\n",
    "X_train, X_test, y_train, y_test = train_test_split(X, y, test_size=0.2, stratify=y, random_state=42)\n",
    "\n",
    "scaler = StandardScaler()\n",
    "X_train_scaled = scaler.fit_transform(X_train)\n",
    "X_test_scaled = scaler.transform(X_test)\n",
    "\n",
    "smote = SMOTE(random_state=42)\n",
    "X_train_res, y_train_res = smote.fit_resample(X_train_scaled, y_train)\n",
    "\n",
    "# Train model\n",
    "model = xgb.XGBClassifier(eval_metric='logloss')\n",
    "model.fit(X_train_res, y_train_res)\n",
    "\n",
    "# Create models/ folder\n",
    "os.makedirs(\"models\", exist_ok=True)\n",
    "\n",
    "# Save model, scaler, and feature names\n",
    "joblib.dump(model, \"models/xgb_attrition_model.pkl\")\n",
    "joblib.dump(scaler, \"models/scaler.pkl\")\n",
    "joblib.dump(X.columns.tolist(), \"models/feature_names.pkl\")\n",
    "\n",
    "print(\"✅ Model, scaler, and feature names saved inside models/\")\n"
   ]
  },
  {
   "cell_type": "code",
   "execution_count": null,
   "id": "feff1d0d-0e74-492b-a2e7-e347a38f4351",
   "metadata": {},
   "outputs": [],
   "source": []
  }
 ],
 "metadata": {
  "kernelspec": {
   "display_name": "Python 3 (ipykernel)",
   "language": "python",
   "name": "python3"
  },
  "language_info": {
   "codemirror_mode": {
    "name": "ipython",
    "version": 3
   },
   "file_extension": ".py",
   "mimetype": "text/x-python",
   "name": "python",
   "nbconvert_exporter": "python",
   "pygments_lexer": "ipython3",
   "version": "3.12.7"
  }
 },
 "nbformat": 4,
 "nbformat_minor": 5
}
